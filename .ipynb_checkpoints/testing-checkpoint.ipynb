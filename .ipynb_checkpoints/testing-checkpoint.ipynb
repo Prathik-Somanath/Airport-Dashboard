{
 "cells": [
  {
   "cell_type": "code",
   "execution_count": 1,
   "metadata": {},
   "outputs": [],
   "source": [
    "import pandas as pd\n",
    "import os\n",
    "import numpy as np\n",
    "import re\n",
    "from datetime import datetime\n",
    "from pymongo import MongoClient"
   ]
  },
  {
   "cell_type": "code",
   "execution_count": 73,
   "metadata": {},
   "outputs": [
    {
     "name": "stdout",
     "output_type": "stream",
     "text": [
      "by_deviceKolkata\n",
      "{'num': '95.00', 'area': 'Area 1'}\n",
      "{'num': '22.18', 'area': 'Area 9'}\n",
      "by_surveyKolkata\n",
      "{'num': '95.00', 'area': 'Area 6'}\n",
      "{'num': '22.18', 'area': 'Area 2'}\n",
      "by_groupKolkata\n",
      "{'num': '95.00', 'area': 'Area 6'}\n",
      "{'num': '22.18', 'area': 'Area 2'}\n"
     ]
    }
   ],
   "source": [
    "arr = os.listdir('./excel')\n",
    "file = [f for f in arr if f[-3:]=='xls']\n",
    "f=file[0]\n",
    "### Loading sheets into DF ###\n",
    "df = pd.read_excel('./excel/'+f,skiprows=[5,9,1], sheet_name=[0,1,2],header=None)\n",
    "### Formatting ###\n",
    "t = df[0].loc[3,[1,2]].str.extract('(\\d*\\s)',expand=False).astype(int)\n",
    "\n",
    "### Formatting strings ###\n",
    "for x in range(3):\n",
    "    df[x].loc[3,[1,2]] = df[x].loc[3,[1,2]].str.extract('(\\d*\\s)',expand=False).astype(int)\n",
    "    df[x].loc[6] = df[x].loc[6].str.extract('(\\d*\\.\\d+|\\d+)', expand=False).astype(float)  \n",
    "\n",
    "### Extracting numbers from str ###\n",
    "    for i in range(9,len(df[x]),2):\n",
    "        df[x].loc[i] = df[x].loc[i].str.extract('(\\d*\\.\\d+|\\d+)', expand=False).astype(float) \n",
    "### Conversion from str to numeric ###    \n",
    "    l = [2,5,6]\n",
    "    for i in l:\n",
    "        df[x].iloc[i,1:] = pd.to_numeric(df[x].iloc[i,1:], errors = 'coerce',downcast='float')\n",
    "#         print(df[x].iloc[i,1:])\n",
    "    for i in range(8,len(df[x].index)):\n",
    "        df[x].iloc[i,1:8] = pd.to_numeric(df[x].iloc[i,1:8], errors = 'coerce',downcast='float')\n",
    "        if(x==0):\n",
    "            df[x].iloc[i,8] = pd.to_numeric(df[x].iloc[i,8], errors = 'coerce',downcast='float')      \n",
    "i =0\n",
    "bytype = df[i].iloc[8:].dropna(axis = 1, how = 'all')\n",
    "col_index = df[i].iloc[7,:].dropna()\n",
    "bytype.columns = col_index\n",
    "bytype.set_index(df[i].iloc[7,0],inplace = True)\n",
    "bytype.index = pd.Series(bytype.index).fillna(method='ffill')\n",
    "# byType = bytype.groupby(df[i].iloc[7,0]).agg(lambda x: list(x))\n",
    "# byType.columns = df[i].iloc[7,1:].dropna()\n",
    "# byType.reset_index(inplace=True)\n",
    "# byType.rename(columns={byType.columns[0]:'area'},inplace=True)\n",
    "# resp = byType.to_dict('record')\n",
    "\n",
    "bytype = bytype.reset_index()\n",
    "for i in range(1,len(bytype.index),2):\n",
    "    bytype.iloc[i,0] = bytype.iloc[i,0] + \"_pct\"\n",
    "bytype.rename(columns={bytype.columns[0]:'area'},inplace=True)\n",
    "bytype.to_dict('record')\n",
    "bytype\n",
    "head = df[0].iloc[4,1:].dropna()\n",
    "allResponses = df[0].iloc[5:7,1:].dropna(axis = 1, how = 'all')\n",
    "allResponses.columns = head\n",
    "allResponses = allResponses.set_index(pd.Index([\"resp\",\"resp_pct\"]))\n",
    "resp = allResponses.to_dict('record')"
   ]
  },
  {
   "cell_type": "code",
   "execution_count": null,
   "metadata": {},
   "outputs": [],
   "source": [
    "def cleanNull(d):\n",
    "    clean = {}   \n",
    "    for k, v in d.items():\n",
    "        if isinstance(v, dict):\n",
    "            nested = cleanNull(v)\n",
    "            if len(nested.keys()) > 0:\n",
    "                clean[k] = nested\n",
    "        elif v is not None:\n",
    "            if isinstance(v,list):\n",
    "                v = [v for v in v if str(v) !='nan']\n",
    "                clean[k] = v\n",
    "            elif np.isnan(v):\n",
    "                v\n",
    "            else:\n",
    "                clean[k] = v   \n",
    "    return clean    "
   ]
  },
  {
   "cell_type": "code",
   "execution_count": 59,
   "metadata": {},
   "outputs": [
    {
     "data": {
      "text/plain": [
       "'Least EI Device'"
      ]
     },
     "execution_count": 59,
     "metadata": {},
     "output_type": "execute_result"
    }
   ],
   "source": [
    "air = df[2].iloc[1:4,:]\n",
    "header = air.iloc[0]\n",
    "air = air.iloc[1:]\n",
    "air.columns = header\n",
    "air\n",
    "r = re.compile(\"Top\\s.*\")\n",
    "# top_name = list(filter(r.match, air.columns))[0]  \n",
    "df[0].iloc[1,5]"
   ]
  },
  {
   "cell_type": "code",
   "execution_count": null,
   "metadata": {},
   "outputs": [],
   "source": []
  }
 ],
 "metadata": {
  "kernelspec": {
   "display_name": "Python 3",
   "language": "python",
   "name": "python3"
  },
  "language_info": {
   "codemirror_mode": {
    "name": "ipython",
    "version": 3
   },
   "file_extension": ".py",
   "mimetype": "text/x-python",
   "name": "python",
   "nbconvert_exporter": "python",
   "pygments_lexer": "ipython3",
   "version": "3.8.2"
  }
 },
 "nbformat": 4,
 "nbformat_minor": 4
}
